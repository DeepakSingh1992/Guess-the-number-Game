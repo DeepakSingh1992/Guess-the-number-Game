{
  "nbformat": 4,
  "nbformat_minor": 0,
  "metadata": {
    "colab": {
      "provenance": [],
      "authorship_tag": "ABX9TyMgTSdc78D1Ftipfwl7NFQx",
      "include_colab_link": true
    },
    "kernelspec": {
      "name": "python3",
      "display_name": "Python 3"
    },
    "language_info": {
      "name": "python"
    }
  },
  "cells": [
    {
      "cell_type": "markdown",
      "metadata": {
        "id": "view-in-github",
        "colab_type": "text"
      },
      "source": [
        "<a href=\"https://colab.research.google.com/github/DeepakSingh1992/Guess-the-number-Game/blob/main/Deepak_Singh_Project_Guess_the_Number.ipynb\" target=\"_parent\"><img src=\"https://colab.research.google.com/assets/colab-badge.svg\" alt=\"Open In Colab\"/></a>"
      ]
    },
    {
      "cell_type": "code",
      "execution_count": 1,
      "metadata": {
        "id": "CbPkmbAlgdUo"
      },
      "outputs": [],
      "source": [
        "logo = \"\"\"\n",
        "  / _ \\_   _  ___  ___ ___  /__   \\ |__   ___    /\\ \\ \\_   _ _ __ ___ | |__   ___ _ __ \n",
        " / /_\\/ | | |/ _ \\/ __/ __|   / /\\/ '_ \\ / _ \\  /  \\/ / | | | '_ ` _ \\| '_ \\ / _ \\ '__|\n",
        "/ /_\\\\| |_| |  __/\\__ \\__ \\  / /  | | | |  __/ / /\\  /| |_| | | | | | | |_) |  __/ |   \n",
        "\\____/ \\__,_|\\___||___/___/  \\/   |_| |_|\\___| \\_\\ \\/  \\__,_|_| |_| |_|_.__/ \\___|_|  \n",
        "\"\"\""
      ]
    },
    {
      "cell_type": "code",
      "source": [
        "from random import randint\n",
        "# from art import logo\n",
        "\n",
        "EASY_LEVEL_TURNS = 10\n",
        "HARD_LEVEL_TURNS = 5\n",
        "\n",
        "#Function to check user's guess against actual answer.\n",
        "def check_answer(guess, answer, turns):\n",
        "  \"\"\"checks answer against guess. Returns the number of turns remaining.\"\"\"\n",
        "  if guess > answer:\n",
        "    print(\"Too high.\")\n",
        "    return turns - 1\n",
        "  elif guess < answer:\n",
        "    print(\"Too low.\")\n",
        "    return turns - 1\n",
        "  else:\n",
        "    print(f\"You got it! The answer was {answer}.\")\n",
        "\n",
        "#Make function to set difficulty.\n",
        "def set_difficulty():\n",
        "  level = input(\"Choose a difficulty. Type 'easy' or 'hard': \")\n",
        "  if level == \"easy\":\n",
        "    return EASY_LEVEL_TURNS\n",
        "  elif level == \"hard\":\n",
        "    return HARD_LEVEL_TURNS\n",
        "  else:\n",
        "    return 0\n",
        "\n",
        "def game():\n",
        "  print(logo)\n",
        "  #Choosing a random number between 1 and 100.\n",
        "  print(\"Welcome to the Number Guessing Game!\")\n",
        "  print(\"I'm thinking of a number between 1 and 100.\")\n",
        "  answer = randint(1, 100)\n",
        "  # print(f\"Pssst, the correct answer is {answer}\") \n",
        "\n",
        "  turns = set_difficulty()\n",
        "  if turns == 0:\n",
        "    print(\"invalid difficulty\")\n",
        "    game()\n",
        "  #Repeat the guessing functionality if they get it wrong.\n",
        "  guess = 0\n",
        "  while guess != answer:\n",
        "    print(f\"You have {turns} attempts remaining to guess the number.\")\n",
        "\n",
        "    #Let the user guess a number.\n",
        "    guess = int(input(\"Make a guess: \"))\n",
        "\n",
        "    #Track the number of turns and reduce by 1 if they get it wrong.\n",
        "    turns = check_answer(guess, answer, turns)\n",
        "    if turns == 0:\n",
        "      print(\"You've run out of guesses, you lose.\")\n",
        "      return\n",
        "    elif guess != answer:\n",
        "      print(\"Guess again.\")\n",
        "\n",
        "\n",
        "game()\n"
      ],
      "metadata": {
        "colab": {
          "base_uri": "https://localhost:8080/"
        },
        "id": "sHRYIVXRgmtJ",
        "outputId": "65aee103-1802-4c1b-8bda-e03900816f32"
      },
      "execution_count": 3,
      "outputs": [
        {
          "output_type": "stream",
          "name": "stdout",
          "text": [
            "\n",
            "  / _ \\_   _  ___  ___ ___  /__   \\ |__   ___    /\\ \\ \\_   _ _ __ ___ | |__   ___ _ __ \n",
            " / /_\\/ | | |/ _ \\/ __/ __|   / /\\/ '_ \\ / _ \\  /  \\/ / | | | '_ ` _ \\| '_ \\ / _ \\ '__|\n",
            "/ /_\\| |_| |  __/\\__ \\__ \\  / /  | | | |  __/ / /\\  /| |_| | | | | | | |_) |  __/ |   \n",
            "\\____/ \\__,_|\\___||___/___/  \\/   |_| |_|\\___| \\_\\ \\/  \\__,_|_| |_| |_|_.__/ \\___|_|  \n",
            "\n",
            "Welcome to the Number Guessing Game!\n",
            "I'm thinking of a number between 1 and 100.\n",
            "Choose a difficulty. Type 'easy' or 'hard': easy\n",
            "You have 10 attempts remaining to guess the number.\n",
            "Make a guess: 2\n",
            "Too low.\n",
            "Guess again.\n",
            "You have 9 attempts remaining to guess the number.\n",
            "Make a guess: 45\n",
            "Too low.\n",
            "Guess again.\n",
            "You have 8 attempts remaining to guess the number.\n",
            "Make a guess: 100\n",
            "Too high.\n",
            "Guess again.\n",
            "You have 7 attempts remaining to guess the number.\n",
            "Make a guess: 75\n",
            "Too low.\n",
            "Guess again.\n",
            "You have 6 attempts remaining to guess the number.\n",
            "Make a guess: 90\n",
            "Too high.\n",
            "Guess again.\n",
            "You have 5 attempts remaining to guess the number.\n",
            "Make a guess: 80\n",
            "Too high.\n",
            "Guess again.\n",
            "You have 4 attempts remaining to guess the number.\n",
            "Make a guess: 77\n",
            "Too high.\n",
            "Guess again.\n",
            "You have 3 attempts remaining to guess the number.\n",
            "Make a guess: 76\n",
            "You got it! The answer was 76.\n"
          ]
        }
      ]
    }
  ]
}